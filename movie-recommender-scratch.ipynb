{
 "cells": [
  {
   "cell_type": "code",
   "execution_count": 2,
   "metadata": {},
   "outputs": [],
   "source": [
    "import pandas as pd\n",
    "from math import sqrt, pow"
   ]
  },
  {
   "cell_type": "code",
   "execution_count": 31,
   "metadata": {},
   "outputs": [],
   "source": [
    "r_cols = ['user_id', 'movie_id', 'rating', 'unix_timestamp']\n",
    "ratings = pd.read_csv('data/ratings.dat', sep = '::', names = r_cols, encoding = 'latin-1', engine = 'python')"
   ]
  },
  {
   "cell_type": "code",
   "execution_count": 32,
   "metadata": {},
   "outputs": [
    {
     "data": {
      "text/html": [
       "<div>\n",
       "<style scoped>\n",
       "    .dataframe tbody tr th:only-of-type {\n",
       "        vertical-align: middle;\n",
       "    }\n",
       "\n",
       "    .dataframe tbody tr th {\n",
       "        vertical-align: top;\n",
       "    }\n",
       "\n",
       "    .dataframe thead th {\n",
       "        text-align: right;\n",
       "    }\n",
       "</style>\n",
       "<table border=\"1\" class=\"dataframe\">\n",
       "  <thead>\n",
       "    <tr style=\"text-align: right;\">\n",
       "      <th></th>\n",
       "      <th>user_id</th>\n",
       "      <th>movie_id</th>\n",
       "      <th>rating</th>\n",
       "      <th>unix_timestamp</th>\n",
       "    </tr>\n",
       "  </thead>\n",
       "  <tbody>\n",
       "    <tr>\n",
       "      <th>0</th>\n",
       "      <td>1</td>\n",
       "      <td>1193</td>\n",
       "      <td>5</td>\n",
       "      <td>978300760</td>\n",
       "    </tr>\n",
       "    <tr>\n",
       "      <th>1</th>\n",
       "      <td>1</td>\n",
       "      <td>661</td>\n",
       "      <td>3</td>\n",
       "      <td>978302109</td>\n",
       "    </tr>\n",
       "    <tr>\n",
       "      <th>2</th>\n",
       "      <td>1</td>\n",
       "      <td>914</td>\n",
       "      <td>3</td>\n",
       "      <td>978301968</td>\n",
       "    </tr>\n",
       "    <tr>\n",
       "      <th>3</th>\n",
       "      <td>1</td>\n",
       "      <td>3408</td>\n",
       "      <td>4</td>\n",
       "      <td>978300275</td>\n",
       "    </tr>\n",
       "    <tr>\n",
       "      <th>4</th>\n",
       "      <td>1</td>\n",
       "      <td>2355</td>\n",
       "      <td>5</td>\n",
       "      <td>978824291</td>\n",
       "    </tr>\n",
       "  </tbody>\n",
       "</table>\n",
       "</div>"
      ],
      "text/plain": [
       "   user_id  movie_id  rating  unix_timestamp\n",
       "0        1      1193       5       978300760\n",
       "1        1       661       3       978302109\n",
       "2        1       914       3       978301968\n",
       "3        1      3408       4       978300275\n",
       "4        1      2355       5       978824291"
      ]
     },
     "execution_count": 32,
     "metadata": {},
     "output_type": "execute_result"
    }
   ],
   "source": [
    "ratings.head()"
   ]
  },
  {
   "cell_type": "markdown",
   "metadata": {},
   "source": [
    "#### Getting no of users and movies in the dataset"
   ]
  },
  {
   "cell_type": "code",
   "execution_count": 33,
   "metadata": {},
   "outputs": [
    {
     "name": "stdout",
     "output_type": "stream",
     "text": [
      "No of users: 6040\n",
      "No of movies: 3706\n"
     ]
    }
   ],
   "source": [
    "user_ids = ratings.user_id.unique().tolist()\n",
    "movie_ids = ratings.movie_id.unique().tolist()\n",
    "print('No of users: {}'.format(len(user_ids)))\n",
    "print('No of movies: {}'.format(len(movie_ids)))"
   ]
  },
  {
   "cell_type": "code",
   "execution_count": 34,
   "metadata": {},
   "outputs": [],
   "source": [
    "m_cols = ['movie_id', 'movie_title', 'genre']\n",
    "movies = pd.read_csv('data/movies.dat', sep = '::', names = m_cols, encoding = 'latin-1', engine = 'python')"
   ]
  },
  {
   "cell_type": "code",
   "execution_count": 35,
   "metadata": {},
   "outputs": [
    {
     "data": {
      "text/html": [
       "<div>\n",
       "<style scoped>\n",
       "    .dataframe tbody tr th:only-of-type {\n",
       "        vertical-align: middle;\n",
       "    }\n",
       "\n",
       "    .dataframe tbody tr th {\n",
       "        vertical-align: top;\n",
       "    }\n",
       "\n",
       "    .dataframe thead th {\n",
       "        text-align: right;\n",
       "    }\n",
       "</style>\n",
       "<table border=\"1\" class=\"dataframe\">\n",
       "  <thead>\n",
       "    <tr style=\"text-align: right;\">\n",
       "      <th></th>\n",
       "      <th>movie_id</th>\n",
       "      <th>movie_title</th>\n",
       "      <th>genre</th>\n",
       "    </tr>\n",
       "  </thead>\n",
       "  <tbody>\n",
       "    <tr>\n",
       "      <th>0</th>\n",
       "      <td>1</td>\n",
       "      <td>Toy Story (1995)</td>\n",
       "      <td>Animation|Children's|Comedy</td>\n",
       "    </tr>\n",
       "    <tr>\n",
       "      <th>1</th>\n",
       "      <td>2</td>\n",
       "      <td>Jumanji (1995)</td>\n",
       "      <td>Adventure|Children's|Fantasy</td>\n",
       "    </tr>\n",
       "    <tr>\n",
       "      <th>2</th>\n",
       "      <td>3</td>\n",
       "      <td>Grumpier Old Men (1995)</td>\n",
       "      <td>Comedy|Romance</td>\n",
       "    </tr>\n",
       "    <tr>\n",
       "      <th>3</th>\n",
       "      <td>4</td>\n",
       "      <td>Waiting to Exhale (1995)</td>\n",
       "      <td>Comedy|Drama</td>\n",
       "    </tr>\n",
       "    <tr>\n",
       "      <th>4</th>\n",
       "      <td>5</td>\n",
       "      <td>Father of the Bride Part II (1995)</td>\n",
       "      <td>Comedy</td>\n",
       "    </tr>\n",
       "  </tbody>\n",
       "</table>\n",
       "</div>"
      ],
      "text/plain": [
       "   movie_id                         movie_title                         genre\n",
       "0         1                    Toy Story (1995)   Animation|Children's|Comedy\n",
       "1         2                      Jumanji (1995)  Adventure|Children's|Fantasy\n",
       "2         3             Grumpier Old Men (1995)                Comedy|Romance\n",
       "3         4            Waiting to Exhale (1995)                  Comedy|Drama\n",
       "4         5  Father of the Bride Part II (1995)                        Comedy"
      ]
     },
     "execution_count": 35,
     "metadata": {},
     "output_type": "execute_result"
    }
   ],
   "source": [
    "movies.head()"
   ]
  },
  {
   "cell_type": "markdown",
   "metadata": {},
   "source": [
    "### Data Preprocessing"
   ]
  },
  {
   "cell_type": "code",
   "execution_count": 36,
   "metadata": {},
   "outputs": [],
   "source": [
    "movies.genre = movies.genre.str.split('|')"
   ]
  },
  {
   "cell_type": "code",
   "execution_count": 45,
   "metadata": {},
   "outputs": [
    {
     "data": {
      "text/plain": [
       "18"
      ]
     },
     "execution_count": 45,
     "metadata": {},
     "output_type": "execute_result"
    }
   ],
   "source": [
    "genre_columns = list(set([j for i in movies['genre'].tolist() for j in i]))\n",
    "len(genre_columns)"
   ]
  },
  {
   "cell_type": "code",
   "execution_count": 39,
   "metadata": {},
   "outputs": [],
   "source": [
    "for j in genre_columns:\n",
    "    movies[j] = 0\n",
    "for i in range(movies.shape[0]):\n",
    "    for j in genre_columns:\n",
    "        if j in movies['genre'].iloc[i]:\n",
    "            movies.loc[i, j] = 1"
   ]
  },
  {
   "cell_type": "code",
   "execution_count": 40,
   "metadata": {},
   "outputs": [
    {
     "data": {
      "text/html": [
       "<div>\n",
       "<style scoped>\n",
       "    .dataframe tbody tr th:only-of-type {\n",
       "        vertical-align: middle;\n",
       "    }\n",
       "\n",
       "    .dataframe tbody tr th {\n",
       "        vertical-align: top;\n",
       "    }\n",
       "\n",
       "    .dataframe thead th {\n",
       "        text-align: right;\n",
       "    }\n",
       "</style>\n",
       "<table border=\"1\" class=\"dataframe\">\n",
       "  <thead>\n",
       "    <tr style=\"text-align: right;\">\n",
       "      <th></th>\n",
       "      <th>movie_id</th>\n",
       "      <th>movie_title</th>\n",
       "      <th>genre</th>\n",
       "      <th>Crime</th>\n",
       "      <th>Musical</th>\n",
       "      <th>Film-Noir</th>\n",
       "      <th>Drama</th>\n",
       "      <th>Mystery</th>\n",
       "      <th>Sci-Fi</th>\n",
       "      <th>Comedy</th>\n",
       "      <th>...</th>\n",
       "      <th>Horror</th>\n",
       "      <th>Action</th>\n",
       "      <th>Fantasy</th>\n",
       "      <th>War</th>\n",
       "      <th>Romance</th>\n",
       "      <th>Thriller</th>\n",
       "      <th>Adventure</th>\n",
       "      <th>Western</th>\n",
       "      <th>Children's</th>\n",
       "      <th>Animation</th>\n",
       "    </tr>\n",
       "  </thead>\n",
       "  <tbody>\n",
       "    <tr>\n",
       "      <th>0</th>\n",
       "      <td>1</td>\n",
       "      <td>Toy Story (1995)</td>\n",
       "      <td>[Animation, Children's, Comedy]</td>\n",
       "      <td>0</td>\n",
       "      <td>0</td>\n",
       "      <td>0</td>\n",
       "      <td>0</td>\n",
       "      <td>0</td>\n",
       "      <td>0</td>\n",
       "      <td>1</td>\n",
       "      <td>...</td>\n",
       "      <td>0</td>\n",
       "      <td>0</td>\n",
       "      <td>0</td>\n",
       "      <td>0</td>\n",
       "      <td>0</td>\n",
       "      <td>0</td>\n",
       "      <td>0</td>\n",
       "      <td>0</td>\n",
       "      <td>1</td>\n",
       "      <td>1</td>\n",
       "    </tr>\n",
       "    <tr>\n",
       "      <th>1</th>\n",
       "      <td>2</td>\n",
       "      <td>Jumanji (1995)</td>\n",
       "      <td>[Adventure, Children's, Fantasy]</td>\n",
       "      <td>0</td>\n",
       "      <td>0</td>\n",
       "      <td>0</td>\n",
       "      <td>0</td>\n",
       "      <td>0</td>\n",
       "      <td>0</td>\n",
       "      <td>0</td>\n",
       "      <td>...</td>\n",
       "      <td>0</td>\n",
       "      <td>0</td>\n",
       "      <td>1</td>\n",
       "      <td>0</td>\n",
       "      <td>0</td>\n",
       "      <td>0</td>\n",
       "      <td>1</td>\n",
       "      <td>0</td>\n",
       "      <td>1</td>\n",
       "      <td>0</td>\n",
       "    </tr>\n",
       "    <tr>\n",
       "      <th>2</th>\n",
       "      <td>3</td>\n",
       "      <td>Grumpier Old Men (1995)</td>\n",
       "      <td>[Comedy, Romance]</td>\n",
       "      <td>0</td>\n",
       "      <td>0</td>\n",
       "      <td>0</td>\n",
       "      <td>0</td>\n",
       "      <td>0</td>\n",
       "      <td>0</td>\n",
       "      <td>1</td>\n",
       "      <td>...</td>\n",
       "      <td>0</td>\n",
       "      <td>0</td>\n",
       "      <td>0</td>\n",
       "      <td>0</td>\n",
       "      <td>1</td>\n",
       "      <td>0</td>\n",
       "      <td>0</td>\n",
       "      <td>0</td>\n",
       "      <td>0</td>\n",
       "      <td>0</td>\n",
       "    </tr>\n",
       "    <tr>\n",
       "      <th>3</th>\n",
       "      <td>4</td>\n",
       "      <td>Waiting to Exhale (1995)</td>\n",
       "      <td>[Comedy, Drama]</td>\n",
       "      <td>0</td>\n",
       "      <td>0</td>\n",
       "      <td>0</td>\n",
       "      <td>1</td>\n",
       "      <td>0</td>\n",
       "      <td>0</td>\n",
       "      <td>1</td>\n",
       "      <td>...</td>\n",
       "      <td>0</td>\n",
       "      <td>0</td>\n",
       "      <td>0</td>\n",
       "      <td>0</td>\n",
       "      <td>0</td>\n",
       "      <td>0</td>\n",
       "      <td>0</td>\n",
       "      <td>0</td>\n",
       "      <td>0</td>\n",
       "      <td>0</td>\n",
       "    </tr>\n",
       "    <tr>\n",
       "      <th>4</th>\n",
       "      <td>5</td>\n",
       "      <td>Father of the Bride Part II (1995)</td>\n",
       "      <td>[Comedy]</td>\n",
       "      <td>0</td>\n",
       "      <td>0</td>\n",
       "      <td>0</td>\n",
       "      <td>0</td>\n",
       "      <td>0</td>\n",
       "      <td>0</td>\n",
       "      <td>1</td>\n",
       "      <td>...</td>\n",
       "      <td>0</td>\n",
       "      <td>0</td>\n",
       "      <td>0</td>\n",
       "      <td>0</td>\n",
       "      <td>0</td>\n",
       "      <td>0</td>\n",
       "      <td>0</td>\n",
       "      <td>0</td>\n",
       "      <td>0</td>\n",
       "      <td>0</td>\n",
       "    </tr>\n",
       "  </tbody>\n",
       "</table>\n",
       "<p>5 rows × 21 columns</p>\n",
       "</div>"
      ],
      "text/plain": [
       "   movie_id                         movie_title  \\\n",
       "0         1                    Toy Story (1995)   \n",
       "1         2                      Jumanji (1995)   \n",
       "2         3             Grumpier Old Men (1995)   \n",
       "3         4            Waiting to Exhale (1995)   \n",
       "4         5  Father of the Bride Part II (1995)   \n",
       "\n",
       "                              genre  Crime  Musical  Film-Noir  Drama  \\\n",
       "0   [Animation, Children's, Comedy]      0        0          0      0   \n",
       "1  [Adventure, Children's, Fantasy]      0        0          0      0   \n",
       "2                 [Comedy, Romance]      0        0          0      0   \n",
       "3                   [Comedy, Drama]      0        0          0      1   \n",
       "4                          [Comedy]      0        0          0      0   \n",
       "\n",
       "   Mystery  Sci-Fi  Comedy  ...  Horror  Action  Fantasy  War  Romance  \\\n",
       "0        0       0       1  ...       0       0        0    0        0   \n",
       "1        0       0       0  ...       0       0        1    0        0   \n",
       "2        0       0       1  ...       0       0        0    0        1   \n",
       "3        0       0       1  ...       0       0        0    0        0   \n",
       "4        0       0       1  ...       0       0        0    0        0   \n",
       "\n",
       "   Thriller  Adventure  Western  Children's  Animation  \n",
       "0         0          0        0           1          1  \n",
       "1         0          1        0           1          0  \n",
       "2         0          0        0           0          0  \n",
       "3         0          0        0           0          0  \n",
       "4         0          0        0           0          0  \n",
       "\n",
       "[5 rows x 21 columns]"
      ]
     },
     "execution_count": 40,
     "metadata": {},
     "output_type": "execute_result"
    }
   ],
   "source": [
    "movies.head()"
   ]
  },
  {
   "cell_type": "code",
   "execution_count": 47,
   "metadata": {},
   "outputs": [
    {
     "data": {
      "text/html": [
       "<div>\n",
       "<style scoped>\n",
       "    .dataframe tbody tr th:only-of-type {\n",
       "        vertical-align: middle;\n",
       "    }\n",
       "\n",
       "    .dataframe tbody tr th {\n",
       "        vertical-align: top;\n",
       "    }\n",
       "\n",
       "    .dataframe thead th {\n",
       "        text-align: right;\n",
       "    }\n",
       "</style>\n",
       "<table border=\"1\" class=\"dataframe\">\n",
       "  <thead>\n",
       "    <tr style=\"text-align: right;\">\n",
       "      <th></th>\n",
       "      <th>0</th>\n",
       "      <th>1</th>\n",
       "    </tr>\n",
       "  </thead>\n",
       "  <tbody>\n",
       "    <tr>\n",
       "      <th>0</th>\n",
       "      <td>Toy Story</td>\n",
       "      <td>1995)</td>\n",
       "    </tr>\n",
       "    <tr>\n",
       "      <th>1</th>\n",
       "      <td>Jumanji</td>\n",
       "      <td>1995)</td>\n",
       "    </tr>\n",
       "    <tr>\n",
       "      <th>2</th>\n",
       "      <td>Grumpier Old Men</td>\n",
       "      <td>1995)</td>\n",
       "    </tr>\n",
       "    <tr>\n",
       "      <th>3</th>\n",
       "      <td>Waiting to Exhale</td>\n",
       "      <td>1995)</td>\n",
       "    </tr>\n",
       "    <tr>\n",
       "      <th>4</th>\n",
       "      <td>Father of the Bride Part II</td>\n",
       "      <td>1995)</td>\n",
       "    </tr>\n",
       "  </tbody>\n",
       "</table>\n",
       "</div>"
      ],
      "text/plain": [
       "                              0      1\n",
       "0                    Toy Story   1995)\n",
       "1                      Jumanji   1995)\n",
       "2             Grumpier Old Men   1995)\n",
       "3            Waiting to Exhale   1995)\n",
       "4  Father of the Bride Part II   1995)"
      ]
     },
     "execution_count": 47,
     "metadata": {},
     "output_type": "execute_result"
    }
   ],
   "source": [
    "split_values = movies['movie_title'].str.split(\"(\", n=1, expand = True)\n",
    "split_values.head()"
   ]
  },
  {
   "cell_type": "code",
   "execution_count": 48,
   "metadata": {},
   "outputs": [],
   "source": [
    "movies.movie_title = split_values[0]"
   ]
  },
  {
   "cell_type": "code",
   "execution_count": 49,
   "metadata": {},
   "outputs": [],
   "source": [
    "movies['release_year'] = split_values[1]"
   ]
  },
  {
   "cell_type": "code",
   "execution_count": 51,
   "metadata": {},
   "outputs": [],
   "source": [
    "movies['realease_year'] = movies.release_year.str.replace(')', '')"
   ]
  },
  {
   "cell_type": "code",
   "execution_count": 52,
   "metadata": {},
   "outputs": [],
   "source": [
    "movies.drop('genre', axis = 1, inplace=True)"
   ]
  },
  {
   "cell_type": "code",
   "execution_count": 53,
   "metadata": {},
   "outputs": [
    {
     "data": {
      "text/html": [
       "<div>\n",
       "<style scoped>\n",
       "    .dataframe tbody tr th:only-of-type {\n",
       "        vertical-align: middle;\n",
       "    }\n",
       "\n",
       "    .dataframe tbody tr th {\n",
       "        vertical-align: top;\n",
       "    }\n",
       "\n",
       "    .dataframe thead th {\n",
       "        text-align: right;\n",
       "    }\n",
       "</style>\n",
       "<table border=\"1\" class=\"dataframe\">\n",
       "  <thead>\n",
       "    <tr style=\"text-align: right;\">\n",
       "      <th></th>\n",
       "      <th>movie_id</th>\n",
       "      <th>movie_title</th>\n",
       "      <th>Crime</th>\n",
       "      <th>Musical</th>\n",
       "      <th>Film-Noir</th>\n",
       "      <th>Drama</th>\n",
       "      <th>Mystery</th>\n",
       "      <th>Sci-Fi</th>\n",
       "      <th>Comedy</th>\n",
       "      <th>Documentary</th>\n",
       "      <th>...</th>\n",
       "      <th>Fantasy</th>\n",
       "      <th>War</th>\n",
       "      <th>Romance</th>\n",
       "      <th>Thriller</th>\n",
       "      <th>Adventure</th>\n",
       "      <th>Western</th>\n",
       "      <th>Children's</th>\n",
       "      <th>Animation</th>\n",
       "      <th>release_year</th>\n",
       "      <th>realease_year</th>\n",
       "    </tr>\n",
       "  </thead>\n",
       "  <tbody>\n",
       "    <tr>\n",
       "      <th>0</th>\n",
       "      <td>1</td>\n",
       "      <td>Toy Story</td>\n",
       "      <td>0</td>\n",
       "      <td>0</td>\n",
       "      <td>0</td>\n",
       "      <td>0</td>\n",
       "      <td>0</td>\n",
       "      <td>0</td>\n",
       "      <td>1</td>\n",
       "      <td>0</td>\n",
       "      <td>...</td>\n",
       "      <td>0</td>\n",
       "      <td>0</td>\n",
       "      <td>0</td>\n",
       "      <td>0</td>\n",
       "      <td>0</td>\n",
       "      <td>0</td>\n",
       "      <td>1</td>\n",
       "      <td>1</td>\n",
       "      <td>1995)</td>\n",
       "      <td>1995</td>\n",
       "    </tr>\n",
       "    <tr>\n",
       "      <th>1</th>\n",
       "      <td>2</td>\n",
       "      <td>Jumanji</td>\n",
       "      <td>0</td>\n",
       "      <td>0</td>\n",
       "      <td>0</td>\n",
       "      <td>0</td>\n",
       "      <td>0</td>\n",
       "      <td>0</td>\n",
       "      <td>0</td>\n",
       "      <td>0</td>\n",
       "      <td>...</td>\n",
       "      <td>1</td>\n",
       "      <td>0</td>\n",
       "      <td>0</td>\n",
       "      <td>0</td>\n",
       "      <td>1</td>\n",
       "      <td>0</td>\n",
       "      <td>1</td>\n",
       "      <td>0</td>\n",
       "      <td>1995)</td>\n",
       "      <td>1995</td>\n",
       "    </tr>\n",
       "    <tr>\n",
       "      <th>2</th>\n",
       "      <td>3</td>\n",
       "      <td>Grumpier Old Men</td>\n",
       "      <td>0</td>\n",
       "      <td>0</td>\n",
       "      <td>0</td>\n",
       "      <td>0</td>\n",
       "      <td>0</td>\n",
       "      <td>0</td>\n",
       "      <td>1</td>\n",
       "      <td>0</td>\n",
       "      <td>...</td>\n",
       "      <td>0</td>\n",
       "      <td>0</td>\n",
       "      <td>1</td>\n",
       "      <td>0</td>\n",
       "      <td>0</td>\n",
       "      <td>0</td>\n",
       "      <td>0</td>\n",
       "      <td>0</td>\n",
       "      <td>1995)</td>\n",
       "      <td>1995</td>\n",
       "    </tr>\n",
       "    <tr>\n",
       "      <th>3</th>\n",
       "      <td>4</td>\n",
       "      <td>Waiting to Exhale</td>\n",
       "      <td>0</td>\n",
       "      <td>0</td>\n",
       "      <td>0</td>\n",
       "      <td>1</td>\n",
       "      <td>0</td>\n",
       "      <td>0</td>\n",
       "      <td>1</td>\n",
       "      <td>0</td>\n",
       "      <td>...</td>\n",
       "      <td>0</td>\n",
       "      <td>0</td>\n",
       "      <td>0</td>\n",
       "      <td>0</td>\n",
       "      <td>0</td>\n",
       "      <td>0</td>\n",
       "      <td>0</td>\n",
       "      <td>0</td>\n",
       "      <td>1995)</td>\n",
       "      <td>1995</td>\n",
       "    </tr>\n",
       "    <tr>\n",
       "      <th>4</th>\n",
       "      <td>5</td>\n",
       "      <td>Father of the Bride Part II</td>\n",
       "      <td>0</td>\n",
       "      <td>0</td>\n",
       "      <td>0</td>\n",
       "      <td>0</td>\n",
       "      <td>0</td>\n",
       "      <td>0</td>\n",
       "      <td>1</td>\n",
       "      <td>0</td>\n",
       "      <td>...</td>\n",
       "      <td>0</td>\n",
       "      <td>0</td>\n",
       "      <td>0</td>\n",
       "      <td>0</td>\n",
       "      <td>0</td>\n",
       "      <td>0</td>\n",
       "      <td>0</td>\n",
       "      <td>0</td>\n",
       "      <td>1995)</td>\n",
       "      <td>1995</td>\n",
       "    </tr>\n",
       "  </tbody>\n",
       "</table>\n",
       "<p>5 rows × 22 columns</p>\n",
       "</div>"
      ],
      "text/plain": [
       "   movie_id                   movie_title  Crime  Musical  Film-Noir  Drama  \\\n",
       "0         1                    Toy Story       0        0          0      0   \n",
       "1         2                      Jumanji       0        0          0      0   \n",
       "2         3             Grumpier Old Men       0        0          0      0   \n",
       "3         4            Waiting to Exhale       0        0          0      1   \n",
       "4         5  Father of the Bride Part II       0        0          0      0   \n",
       "\n",
       "   Mystery  Sci-Fi  Comedy  Documentary  ...  Fantasy  War  Romance  Thriller  \\\n",
       "0        0       0       1            0  ...        0    0        0         0   \n",
       "1        0       0       0            0  ...        1    0        0         0   \n",
       "2        0       0       1            0  ...        0    0        1         0   \n",
       "3        0       0       1            0  ...        0    0        0         0   \n",
       "4        0       0       1            0  ...        0    0        0         0   \n",
       "\n",
       "   Adventure  Western  Children's  Animation  release_year  realease_year  \n",
       "0          0        0           1          1         1995)           1995  \n",
       "1          1        0           1          0         1995)           1995  \n",
       "2          0        0           0          0         1995)           1995  \n",
       "3          0        0           0          0         1995)           1995  \n",
       "4          0        0           0          0         1995)           1995  \n",
       "\n",
       "[5 rows x 22 columns]"
      ]
     },
     "execution_count": 53,
     "metadata": {},
     "output_type": "execute_result"
    }
   ],
   "source": [
    "movies.head()"
   ]
  },
  {
   "cell_type": "code",
   "execution_count": 55,
   "metadata": {},
   "outputs": [],
   "source": [
    "def get_rating_(userid, movieid):\n",
    "    return ratings.loc[(ratings.user_id == userid) & (ratings.movie_id == movieid), 'rating'].iloc[0]"
   ]
  },
  {
   "cell_type": "code",
   "execution_count": 56,
   "metadata": {},
   "outputs": [],
   "source": [
    "def get_movieids_(userid):\n",
    "    return ratings.loc[ratings.user_id == userid, 'movie_id'].tolist()"
   ]
  },
  {
   "cell_type": "code",
   "execution_count": 91,
   "metadata": {},
   "outputs": [],
   "source": [
    "def get_movie_title_(movieid):\n",
    "    return (movies.loc[(movies.movie_id == movieid),'movie_title'].iloc[0])"
   ]
  },
  {
   "cell_type": "code",
   "execution_count": null,
   "metadata": {},
   "outputs": [],
   "source": []
  },
  {
   "cell_type": "code",
   "execution_count": null,
   "metadata": {},
   "outputs": [],
   "source": []
  },
  {
   "cell_type": "code",
   "execution_count": 61,
   "metadata": {},
   "outputs": [],
   "source": [
    "def distance_similarity_score_(user1, user2):\n",
    "    '''params --  user1, user2: user ids of two users between which similarity score is to be claculated'''\n",
    "    #no of movies watched by both users\n",
    "    both_watch_count = 0\n",
    "    for element in get_movieids_(user1):\n",
    "        if element in get_movieids_(user2):\n",
    "            both_watch_count += 1\n",
    "    if both_watch_count == 0:\n",
    "        return 0\n",
    "    \n",
    "    # Calculating distance based similarity between both the users.\n",
    "    distance = []\n",
    "    for element in get_movieids_(user1):\n",
    "        if element in get_movieids_(user2):\n",
    "            rating1 = get_rating_(user1, element)\n",
    "            rating2 = get_rating_(user2, element)\n",
    "            distance.append(pow(rating1 - rating2, 2))\n",
    "            total_distance = sum(distance)\n",
    "        \n",
    "        # Adding one to the denominator to avoid divide by zero error.\n",
    "    return 1/(1+sqrt(total_distance))"
   ]
  },
  {
   "cell_type": "code",
   "execution_count": 66,
   "metadata": {},
   "outputs": [
    {
     "name": "stdout",
     "output_type": "stream",
     "text": [
      "Distance based similarity between user ids 10 & 240: 0.08240267256634183\n"
     ]
    }
   ],
   "source": [
    "#testing the above function\n",
    "print('Distance based similarity between user ids 10 & 240: {}'.format(distance_similarity_score_(10, 240)))"
   ]
  },
  {
   "cell_type": "code",
   "execution_count": 85,
   "metadata": {},
   "outputs": [],
   "source": [
    "def pearson_correlation_score_(user1,user2):\n",
    "    '''\n",
    "    user1 & user2 : user ids of two users between which similarity score is to be calculated.\n",
    "    '''\n",
    "    # A list of movies watched by both the users.\n",
    "    both_watch_count = []\n",
    "    \n",
    "    # Finding movies watched by both the users.\n",
    "    for element in ratings.loc[ratings.user_id==user1,'movie_id'].tolist():\n",
    "        if element in ratings.loc[ratings.user_id==user2,'movie_id'].tolist():\n",
    "            both_watch_count.append(element)\n",
    "    \n",
    "    # Returning '0' correlation for bo common movies.\n",
    "    if len(both_watch_count) == 0 :\n",
    "        return 0\n",
    "    \n",
    "    # Calculating Co-Variances.\n",
    "    rating_sum_1 = sum([get_rating_(user1,element) for element in both_watch_count])\n",
    "    rating_sum_2 = sum([get_rating_(user2,element) for element in both_watch_count])\n",
    "    rating_squared_sum_1 = sum([pow(get_rating_(user1,element),2) for element in both_watch_count])\n",
    "    rating_squared_sum_2 = sum([pow(get_rating_(user2,element),2) for element in both_watch_count])\n",
    "    product_sum_rating = sum([get_rating_(user1,element) * get_rating_(user2,element) \n",
    "                              for element in both_watch_count])\n",
    "    \n",
    "    # Returning pearson correlation between both the users.\n",
    "    numerator = product_sum_rating - ((rating_sum_1 * rating_sum_2) / len(both_watch_count))\n",
    "    denominator = sqrt((rating_squared_sum_1 - pow(rating_sum_1,2) / len(both_watch_count)) * \n",
    "                       (rating_squared_sum_2 - pow(rating_sum_2,2) / len(both_watch_count)))\n",
    "    \n",
    "    # Handling 'Divide by Zero' error.\n",
    "    if denominator == 0:\n",
    "        return 0\n",
    "    return numerator/denominator"
   ]
  },
  {
   "cell_type": "code",
   "execution_count": 86,
   "metadata": {},
   "outputs": [
    {
     "name": "stdout",
     "output_type": "stream",
     "text": [
      "Pearson correlation between user 63 & 92: 0.1664062283752735\n"
     ]
    }
   ],
   "source": [
    "#testing the above function\n",
    "print('Pearson correlation between user 63 & 92: {}'.format(pearson_correlation_score_(63, 92)))"
   ]
  },
  {
   "cell_type": "code",
   "execution_count": 75,
   "metadata": {},
   "outputs": [],
   "source": [
    "def most_similar_users_(user1, number_of_users, metric = 'pearson'):\n",
    "    '''\n",
    "    params -- \n",
    "    user1 : Targeted User\n",
    "    number_of_users : number of most similar users you want to user1.\n",
    "    metric : metric to be used to calculate inter-user similarity score.(default = 'pearson')\n",
    "    '''\n",
    "    # Getting distinct users ids\n",
    "    user_ids = ratings.user_id.unique().tolist()\n",
    "    \n",
    "    # Getting similarity score between targeted user and all other users\n",
    "    if(metric == 'pearson'):\n",
    "        similarity_score = [(pearson_correlation_score_(user1, nth_user), nth_user)\n",
    "                           for nth_user in user_ids[:100] if nth_user != user1]\n",
    "    else:\n",
    "         similarity_score = [(distance_similarity_score_(user1, nth_user), nth_user)\n",
    "                           for nth_user in user_ids[:100] if nth_user != user1]\n",
    "            \n",
    "    similarity_score.sort()\n",
    "    similarity_score.reverse()\n",
    "    # Returning the top most 'number_of_users' similar users. \n",
    "    return similarity_score[:number_of_users]"
   ]
  },
  {
   "cell_type": "code",
   "execution_count": 78,
   "metadata": {},
   "outputs": [
    {
     "name": "stdout",
     "output_type": "stream",
     "text": [
      "[(0.936585811581694, 61), (0.7076731463403717, 41), (0.6123724356957956, 21), (0.5970863767331771, 25), (0.5477225575051661, 64)]\n"
     ]
    }
   ],
   "source": [
    "#testing the above function\n",
    "print(most_similar_users_(23, 5))"
   ]
  },
  {
   "cell_type": "code",
   "execution_count": 89,
   "metadata": {},
   "outputs": [],
   "source": [
    "def get_recommendation_(userid):\n",
    "    user_ids = ratings.user_id.unique().tolist()\n",
    "    total = {}\n",
    "    similariy_sum = {}\n",
    "    \n",
    "    # Iterating over subset of user ids.\n",
    "    for user in user_ids[:100]:\n",
    "        \n",
    "        # not comparing the user to itself\n",
    "        if user == userid:\n",
    "            continue\n",
    "        \n",
    "        # Getting similarity score between the users.\n",
    "        score = pearson_correlation_score_(userid,user)\n",
    "        \n",
    "        # not considering users having zero or less similarity score.\n",
    "        if score <= 0:\n",
    "            continue\n",
    "        \n",
    "        # Getting weighted similarity score and sum of similarities between both the users.\n",
    "        for movieid in get_movieids_(user):\n",
    "            # Only considering not watched/rated movies\n",
    "            if movieid not in get_movieids_(userid) or get_rating_(userid,movieid) == 0:\n",
    "                total[movieid] = 0\n",
    "                total[movieid] += get_rating_(user,movieid) * score\n",
    "                similariy_sum[movieid] = 0\n",
    "                similariy_sum[movieid] += score\n",
    "    \n",
    "    # Normalizing ratings\n",
    "    ranking = [(tot/similariy_sum[movieid],movieid) for movieid,tot in total.items()]\n",
    "    ranking.sort()\n",
    "    ranking.reverse()\n",
    "    \n",
    "    # Getting movie titles against the movie ids.\n",
    "    recommendations = [get_movie_title_(movieid) for score,movieid in ranking]\n",
    "    return recommendations[:10]"
   ]
  },
  {
   "cell_type": "code",
   "execution_count": 92,
   "metadata": {
    "scrolled": false
   },
   "outputs": [
    {
     "name": "stdout",
     "output_type": "stream",
     "text": [
      "['Invisible Man, The ', 'Creature From the Black Lagoon, The ', 'Hellraiser ', 'Almost Famous ', 'Way of the Gun, The ', 'Shane ', 'Naked Gun 2 1/2: The Smell of Fear, The ', \"Kelly's Heroes \", 'Official Story, The ', 'Everything You Always Wanted to Know About Sex ']\n"
     ]
    }
   ],
   "source": [
    "print(get_recommendation_(32))"
   ]
  },
  {
   "cell_type": "code",
   "execution_count": 95,
   "metadata": {},
   "outputs": [],
   "source": [
    "def get_recommendation_(userid):\n",
    "    user_ids = ratings.user_id.unique().tolist()\n",
    "    total = {}\n",
    "    similariy_sum = {}\n",
    "    \n",
    "    # Iterating over subset of user ids.\n",
    "    for user, score in most_similar_users_(userid, 100):\n",
    "        \n",
    "         \n",
    "        # not considering users having zero or less similarity score.\n",
    "        if score <= 0:\n",
    "            continue\n",
    "        \n",
    "        # Getting weighted similarity score and sum of similarities between both the users.\n",
    "        for movieid in get_movieids_(user):\n",
    "            # Only considering not watched/rated movies\n",
    "            if movieid not in get_movieids_(userid) or get_rating_(userid,movieid) == 0:\n",
    "                total[movieid] = 0\n",
    "                total[movieid] += get_rating_(user,movieid) * score\n",
    "                similariy_sum[movieid] = 0\n",
    "                similariy_sum[movieid] += score\n",
    "    \n",
    "    # Normalizing ratings\n",
    "    ranking = [(tot/similariy_sum[movieid],movieid) for movieid,tot in total.items()]\n",
    "    ranking.sort()\n",
    "    ranking.reverse()\n",
    "    \n",
    "    # Getting movie titles against the movie ids.\n",
    "    recommendations = [get_movie_title_(movieid) for score,movieid in ranking]\n",
    "    return recommendations[:10]"
   ]
  },
  {
   "cell_type": "code",
   "execution_count": 96,
   "metadata": {},
   "outputs": [
    {
     "name": "stdout",
     "output_type": "stream",
     "text": [
      "['Awakenings ', 'Christmas Story, A ', \"Bug's Life, A \", 'Rain Man ', 'Last Days of Disco, The ', 'Ben-Hur ', 'Back to the Future ', \"One Flew Over the Cuckoo's Nest \", 'Sound of Music, The ', 'Dumbo ']\n"
     ]
    }
   ],
   "source": [
    "print(get_recommendation_(32))"
   ]
  },
  {
   "cell_type": "code",
   "execution_count": null,
   "metadata": {},
   "outputs": [],
   "source": []
  }
 ],
 "metadata": {
  "kernelspec": {
   "display_name": "Python 3",
   "language": "python",
   "name": "python3"
  },
  "language_info": {
   "codemirror_mode": {
    "name": "ipython",
    "version": 3
   },
   "file_extension": ".py",
   "mimetype": "text/x-python",
   "name": "python",
   "nbconvert_exporter": "python",
   "pygments_lexer": "ipython3",
   "version": "3.7.3"
  }
 },
 "nbformat": 4,
 "nbformat_minor": 2
}
